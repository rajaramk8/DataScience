{
 "cells": [
  {
   "cell_type": "markdown",
   "metadata": {
    "collapsed": true
   },
   "source": [
    "### regression_forecasting_and_predicting_practical_machine_learning_tutorial_with_python_p_5.mp4 \n",
    " The following notes is for a video by sendtex\n",
    " https://www.youtube.com/watch?v=QLVMqwpOLPk"
   ]
  },
  {
   "cell_type": "code",
   "execution_count": 31,
   "metadata": {
    "collapsed": false
   },
   "outputs": [],
   "source": [
    "from sklearn import preprocessing, cross_validation,svm\n",
    "import math\n",
    "from sklearn.linear_model import LinearRegression"
   ]
  },
  {
   "cell_type": "code",
   "execution_count": 32,
   "metadata": {
    "collapsed": true
   },
   "outputs": [],
   "source": [
    "import numpy as np"
   ]
  },
  {
   "cell_type": "code",
   "execution_count": 33,
   "metadata": {
    "collapsed": false
   },
   "outputs": [],
   "source": [
    "import quandl\n",
    "#Video is asking to use Quandl -\n",
    "# Note that Quandl does not work ( with a capital Q)\n",
    "# quandl works just fine.. \n",
    "#\n",
    "#"
   ]
  },
  {
   "cell_type": "code",
   "execution_count": 34,
   "metadata": {
    "collapsed": true
   },
   "outputs": [],
   "source": [
    "import pandas as pd"
   ]
  },
  {
   "cell_type": "code",
   "execution_count": 35,
   "metadata": {
    "collapsed": false
   },
   "outputs": [],
   "source": [
    "df=quandl.get('WIKI/GOOGL')"
   ]
  },
  {
   "cell_type": "code",
   "execution_count": 36,
   "metadata": {
    "collapsed": false
   },
   "outputs": [
    {
     "name": "stdout",
     "output_type": "stream",
     "text": [
      "              Open    High     Low    Close      Volume  Ex-Dividend  \\\n",
      "Date                                                                   \n",
      "2004-08-19  100.01  104.06   95.96  100.335  44659000.0          0.0   \n",
      "2004-08-20  101.01  109.08  100.50  108.310  22834300.0          0.0   \n",
      "2004-08-23  110.76  113.48  109.05  109.400  18256100.0          0.0   \n",
      "2004-08-24  111.24  111.60  103.57  104.870  15247300.0          0.0   \n",
      "2004-08-25  104.76  108.00  103.88  106.000   9188600.0          0.0   \n",
      "\n",
      "            Split Ratio  Adj. Open  Adj. High   Adj. Low  Adj. Close  \\\n",
      "Date                                                                   \n",
      "2004-08-19          1.0  50.159839  52.191109  48.128568   50.322842   \n",
      "2004-08-20          1.0  50.661387  54.708881  50.405597   54.322689   \n",
      "2004-08-23          1.0  55.551482  56.915693  54.693835   54.869377   \n",
      "2004-08-24          1.0  55.792225  55.972783  51.945350   52.597363   \n",
      "2004-08-25          1.0  52.542193  54.167209  52.100830   53.164113   \n",
      "\n",
      "            Adj. Volume  \n",
      "Date                     \n",
      "2004-08-19   44659000.0  \n",
      "2004-08-20   22834300.0  \n",
      "2004-08-23   18256100.0  \n",
      "2004-08-24   15247300.0  \n",
      "2004-08-25    9188600.0  \n"
     ]
    }
   ],
   "source": [
    "print(df.head())\n",
    "# as we can see from the output - there are a lot of features.\n",
    "# what we need is meaningful features.\n",
    "#"
   ]
  },
  {
   "cell_type": "code",
   "execution_count": 37,
   "metadata": {
    "collapsed": false
   },
   "outputs": [],
   "source": [
    "#We remove columns we do NOT need in the data frame.. \n",
    "df=df[['Adj. Open','Adj. High','Adj. Low','Adj. Close','Adj. Volume']]"
   ]
  },
  {
   "cell_type": "code",
   "execution_count": 38,
   "metadata": {
    "collapsed": false
   },
   "outputs": [
    {
     "data": {
      "text/html": [
       "<div>\n",
       "<table border=\"1\" class=\"dataframe\">\n",
       "  <thead>\n",
       "    <tr style=\"text-align: right;\">\n",
       "      <th></th>\n",
       "      <th>Adj. Open</th>\n",
       "      <th>Adj. High</th>\n",
       "      <th>Adj. Low</th>\n",
       "      <th>Adj. Close</th>\n",
       "      <th>Adj. Volume</th>\n",
       "    </tr>\n",
       "    <tr>\n",
       "      <th>Date</th>\n",
       "      <th></th>\n",
       "      <th></th>\n",
       "      <th></th>\n",
       "      <th></th>\n",
       "      <th></th>\n",
       "    </tr>\n",
       "  </thead>\n",
       "  <tbody>\n",
       "    <tr>\n",
       "      <th>2004-08-19</th>\n",
       "      <td>50.159839</td>\n",
       "      <td>52.191109</td>\n",
       "      <td>48.128568</td>\n",
       "      <td>50.322842</td>\n",
       "      <td>44659000.0</td>\n",
       "    </tr>\n",
       "    <tr>\n",
       "      <th>2004-08-20</th>\n",
       "      <td>50.661387</td>\n",
       "      <td>54.708881</td>\n",
       "      <td>50.405597</td>\n",
       "      <td>54.322689</td>\n",
       "      <td>22834300.0</td>\n",
       "    </tr>\n",
       "    <tr>\n",
       "      <th>2004-08-23</th>\n",
       "      <td>55.551482</td>\n",
       "      <td>56.915693</td>\n",
       "      <td>54.693835</td>\n",
       "      <td>54.869377</td>\n",
       "      <td>18256100.0</td>\n",
       "    </tr>\n",
       "    <tr>\n",
       "      <th>2004-08-24</th>\n",
       "      <td>55.792225</td>\n",
       "      <td>55.972783</td>\n",
       "      <td>51.945350</td>\n",
       "      <td>52.597363</td>\n",
       "      <td>15247300.0</td>\n",
       "    </tr>\n",
       "    <tr>\n",
       "      <th>2004-08-25</th>\n",
       "      <td>52.542193</td>\n",
       "      <td>54.167209</td>\n",
       "      <td>52.100830</td>\n",
       "      <td>53.164113</td>\n",
       "      <td>9188600.0</td>\n",
       "    </tr>\n",
       "  </tbody>\n",
       "</table>\n",
       "</div>"
      ],
      "text/plain": [
       "            Adj. Open  Adj. High   Adj. Low  Adj. Close  Adj. Volume\n",
       "Date                                                                \n",
       "2004-08-19  50.159839  52.191109  48.128568   50.322842   44659000.0\n",
       "2004-08-20  50.661387  54.708881  50.405597   54.322689   22834300.0\n",
       "2004-08-23  55.551482  56.915693  54.693835   54.869377   18256100.0\n",
       "2004-08-24  55.792225  55.972783  51.945350   52.597363   15247300.0\n",
       "2004-08-25  52.542193  54.167209  52.100830   53.164113    9188600.0"
      ]
     },
     "execution_count": 38,
     "metadata": {},
     "output_type": "execute_result"
    }
   ],
   "source": [
    "df.head()"
   ]
  },
  {
   "cell_type": "code",
   "execution_count": 39,
   "metadata": {
    "collapsed": false
   },
   "outputs": [],
   "source": [
    "# Here we create a NEW COLUMN \"HL_PCT\"  in the dataframe. \n",
    "# \n",
    "\n",
    "df['HL_PCT']=(df['Adj. High'] - df['Adj. Close'] ) / df['Adj. Close'] * 100\n"
   ]
  },
  {
   "cell_type": "code",
   "execution_count": 40,
   "metadata": {
    "collapsed": true
   },
   "outputs": [],
   "source": [
    "# Here we create a NEW COLUMN \"PCT_Change\"  in the dataframe. \n",
    "# \n",
    "df['PCT_Change']=(df['Adj. Close'] - df['Adj. Open'] ) / df['Adj. Open'] * 100"
   ]
  },
  {
   "cell_type": "code",
   "execution_count": 41,
   "metadata": {
    "collapsed": false
   },
   "outputs": [],
   "source": [
    "#df.columns\n",
    "#We remove columns we do NOT need in the data frame.. \n",
    "df=df[['Adj. Close','HL_PCT','PCT_Change','Adj. Volume']]\n"
   ]
  },
  {
   "cell_type": "code",
   "execution_count": 42,
   "metadata": {
    "collapsed": false
   },
   "outputs": [
    {
     "data": {
      "text/html": [
       "<div>\n",
       "<table border=\"1\" class=\"dataframe\">\n",
       "  <thead>\n",
       "    <tr style=\"text-align: right;\">\n",
       "      <th></th>\n",
       "      <th>Adj. Close</th>\n",
       "      <th>HL_PCT</th>\n",
       "      <th>PCT_Change</th>\n",
       "      <th>Adj. Volume</th>\n",
       "    </tr>\n",
       "    <tr>\n",
       "      <th>Date</th>\n",
       "      <th></th>\n",
       "      <th></th>\n",
       "      <th></th>\n",
       "      <th></th>\n",
       "    </tr>\n",
       "  </thead>\n",
       "  <tbody>\n",
       "    <tr>\n",
       "      <th>2004-08-19</th>\n",
       "      <td>50.322842</td>\n",
       "      <td>3.712563</td>\n",
       "      <td>0.324968</td>\n",
       "      <td>44659000.0</td>\n",
       "    </tr>\n",
       "    <tr>\n",
       "      <th>2004-08-20</th>\n",
       "      <td>54.322689</td>\n",
       "      <td>0.710922</td>\n",
       "      <td>7.227007</td>\n",
       "      <td>22834300.0</td>\n",
       "    </tr>\n",
       "    <tr>\n",
       "      <th>2004-08-23</th>\n",
       "      <td>54.869377</td>\n",
       "      <td>3.729433</td>\n",
       "      <td>-1.227880</td>\n",
       "      <td>18256100.0</td>\n",
       "    </tr>\n",
       "    <tr>\n",
       "      <th>2004-08-24</th>\n",
       "      <td>52.597363</td>\n",
       "      <td>6.417469</td>\n",
       "      <td>-5.726357</td>\n",
       "      <td>15247300.0</td>\n",
       "    </tr>\n",
       "    <tr>\n",
       "      <th>2004-08-25</th>\n",
       "      <td>53.164113</td>\n",
       "      <td>1.886792</td>\n",
       "      <td>1.183658</td>\n",
       "      <td>9188600.0</td>\n",
       "    </tr>\n",
       "  </tbody>\n",
       "</table>\n",
       "</div>"
      ],
      "text/plain": [
       "            Adj. Close    HL_PCT  PCT_Change  Adj. Volume\n",
       "Date                                                     \n",
       "2004-08-19   50.322842  3.712563    0.324968   44659000.0\n",
       "2004-08-20   54.322689  0.710922    7.227007   22834300.0\n",
       "2004-08-23   54.869377  3.729433   -1.227880   18256100.0\n",
       "2004-08-24   52.597363  6.417469   -5.726357   15247300.0\n",
       "2004-08-25   53.164113  1.886792    1.183658    9188600.0"
      ]
     },
     "execution_count": 42,
     "metadata": {},
     "output_type": "execute_result"
    }
   ],
   "source": [
    "df.head()"
   ]
  },
  {
   "cell_type": "code",
   "execution_count": 43,
   "metadata": {
    "collapsed": true
   },
   "outputs": [],
   "source": [
    "# Would the 'Adj. Close' column be a FEATURE for a lable ?\n",
    "#It would have been lable if we were NOT planning on using HL_PCT\n",
    "#Why?\n",
    "# in HL_PCT feature, 'Adj. Close' has already been factored in.\n",
    "#  Discussion in regression_features_and_labels_practical_machine_learning_tutorial_with_python_p_3.mp4\n",
    "#   Not clear.. ( not understood at 01:30)\n",
    "#"
   ]
  },
  {
   "cell_type": "code",
   "execution_count": 44,
   "metadata": {
    "collapsed": false
   },
   "outputs": [],
   "source": [
    "#We need to decide what is it that we want to forecast?\n",
    "# Looking at the data, we would be interested, if we can forecase the closing price.\n",
    "# This is an important step - Raj.\n",
    "#\n",
    "\n",
    "forecast_col = 'Adj. Close'\n",
    "df.fillna(-9999,inplace=True) "
   ]
  },
  {
   "cell_type": "code",
   "execution_count": 45,
   "metadata": {
    "collapsed": false
   },
   "outputs": [
    {
     "data": {
      "text/plain": [
       "32"
      ]
     },
     "execution_count": 45,
     "metadata": {},
     "output_type": "execute_result"
    }
   ],
   "source": [
    "# How many values do we need to forecast out.\n",
    "#  This is typically given as a percentage of the data frame.\n",
    "# This can aswell be an hard coded number - Raj.\n",
    "#\n",
    "forecast_out = int(math.ceil(0.01*len(df)))\n",
    "# We want to predict 1 percent of the data frame\n",
    "#  that is we want to extend the data frame (?) by 1 percent.. \n",
    "#\n",
    "forecast_out"
   ]
  },
  {
   "cell_type": "code",
   "execution_count": 46,
   "metadata": {
    "collapsed": true
   },
   "outputs": [],
   "source": [
    "# So far, we dealt with features.\n",
    "# Now, we come across 'label' -\n",
    "# When you come across 'label' think supervised learning.\n",
    "#  Think dependent variable.\n",
    "# This step creates a new column called label.\n",
    "# The value in the lable column are notihng but the closing price of the stock\n",
    "#  n days into the future..  ( where n = forecast_out)\n",
    "#  Good explanation of shift is present here.. \n",
    "#    http://stackoverflow.com/questions/20095673/python-shift-column-in-pandas-dataframe-up-by-one\n",
    "#  The side effect of this shift operation: \n",
    "#   The last n rows will have a value of NaN under the 'label' column.\n",
    "#   Note that n = forecare_out\n",
    "# We will eventually do a cleanup by calling dropna method. - look out for this.\n",
    "#\n",
    "df['label']=df[forecast_col].shift(-forecast_out)"
   ]
  },
  {
   "cell_type": "code",
   "execution_count": 47,
   "metadata": {
    "collapsed": false
   },
   "outputs": [
    {
     "data": {
      "text/plain": [
       "Date\n",
       "2004-08-19    69.399229\n",
       "2004-08-20    68.752232\n",
       "2004-08-23    69.639972\n",
       "2004-08-24    69.078238\n",
       "2004-08-25    67.839414\n",
       "Name: label, dtype: float64"
      ]
     },
     "execution_count": 47,
     "metadata": {},
     "output_type": "execute_result"
    }
   ],
   "source": [
    "df['label'].head()"
   ]
  },
  {
   "cell_type": "code",
   "execution_count": 52,
   "metadata": {
    "collapsed": false
   },
   "outputs": [
    {
     "data": {
      "text/html": [
       "<div>\n",
       "<table border=\"1\" class=\"dataframe\">\n",
       "  <thead>\n",
       "    <tr style=\"text-align: right;\">\n",
       "      <th></th>\n",
       "      <th>Adj. Close</th>\n",
       "      <th>HL_PCT</th>\n",
       "      <th>PCT_Change</th>\n",
       "      <th>Adj. Volume</th>\n",
       "      <th>label</th>\n",
       "    </tr>\n",
       "    <tr>\n",
       "      <th>Date</th>\n",
       "      <th></th>\n",
       "      <th></th>\n",
       "      <th></th>\n",
       "      <th></th>\n",
       "      <th></th>\n",
       "    </tr>\n",
       "  </thead>\n",
       "  <tbody>\n",
       "    <tr>\n",
       "      <th>2004-08-19</th>\n",
       "      <td>50.322842</td>\n",
       "      <td>3.712563</td>\n",
       "      <td>0.324968</td>\n",
       "      <td>44659000.0</td>\n",
       "      <td>69.399229</td>\n",
       "    </tr>\n",
       "    <tr>\n",
       "      <th>2004-08-20</th>\n",
       "      <td>54.322689</td>\n",
       "      <td>0.710922</td>\n",
       "      <td>7.227007</td>\n",
       "      <td>22834300.0</td>\n",
       "      <td>68.752232</td>\n",
       "    </tr>\n",
       "    <tr>\n",
       "      <th>2004-08-23</th>\n",
       "      <td>54.869377</td>\n",
       "      <td>3.729433</td>\n",
       "      <td>-1.227880</td>\n",
       "      <td>18256100.0</td>\n",
       "      <td>69.639972</td>\n",
       "    </tr>\n",
       "    <tr>\n",
       "      <th>2004-08-24</th>\n",
       "      <td>52.597363</td>\n",
       "      <td>6.417469</td>\n",
       "      <td>-5.726357</td>\n",
       "      <td>15247300.0</td>\n",
       "      <td>69.078238</td>\n",
       "    </tr>\n",
       "    <tr>\n",
       "      <th>2004-08-25</th>\n",
       "      <td>53.164113</td>\n",
       "      <td>1.886792</td>\n",
       "      <td>1.183658</td>\n",
       "      <td>9188600.0</td>\n",
       "      <td>67.839414</td>\n",
       "    </tr>\n",
       "  </tbody>\n",
       "</table>\n",
       "</div>"
      ],
      "text/plain": [
       "            Adj. Close    HL_PCT  PCT_Change  Adj. Volume      label\n",
       "Date                                                                \n",
       "2004-08-19   50.322842  3.712563    0.324968   44659000.0  69.399229\n",
       "2004-08-20   54.322689  0.710922    7.227007   22834300.0  68.752232\n",
       "2004-08-23   54.869377  3.729433   -1.227880   18256100.0  69.639972\n",
       "2004-08-24   52.597363  6.417469   -5.726357   15247300.0  69.078238\n",
       "2004-08-25   53.164113  1.886792    1.183658    9188600.0  67.839414"
      ]
     },
     "execution_count": 52,
     "metadata": {},
     "output_type": "execute_result"
    }
   ],
   "source": [
    "df.head()"
   ]
  },
  {
   "cell_type": "code",
   "execution_count": 60,
   "metadata": {
    "collapsed": false
   },
   "outputs": [
    {
     "data": {
      "text/html": [
       "<div>\n",
       "<table border=\"1\" class=\"dataframe\">\n",
       "  <thead>\n",
       "    <tr style=\"text-align: right;\">\n",
       "      <th></th>\n",
       "      <th>Adj. Close</th>\n",
       "      <th>HL_PCT</th>\n",
       "      <th>PCT_Change</th>\n",
       "      <th>Adj. Volume</th>\n",
       "      <th>label</th>\n",
       "    </tr>\n",
       "    <tr>\n",
       "      <th>Date</th>\n",
       "      <th></th>\n",
       "      <th></th>\n",
       "      <th></th>\n",
       "      <th></th>\n",
       "      <th></th>\n",
       "    </tr>\n",
       "  </thead>\n",
       "  <tbody>\n",
       "    <tr>\n",
       "      <th>2016-12-02</th>\n",
       "      <td>764.46</td>\n",
       "      <td>0.790100</td>\n",
       "      <td>0.336002</td>\n",
       "      <td>1686840.0</td>\n",
       "      <td>NaN</td>\n",
       "    </tr>\n",
       "    <tr>\n",
       "      <th>2016-12-05</th>\n",
       "      <td>778.22</td>\n",
       "      <td>0.228727</td>\n",
       "      <td>1.067532</td>\n",
       "      <td>1680524.0</td>\n",
       "      <td>NaN</td>\n",
       "    </tr>\n",
       "    <tr>\n",
       "      <th>2016-12-06</th>\n",
       "      <td>776.18</td>\n",
       "      <td>1.172408</td>\n",
       "      <td>-0.513977</td>\n",
       "      <td>1694701.0</td>\n",
       "      <td>NaN</td>\n",
       "    </tr>\n",
       "    <tr>\n",
       "      <th>2016-12-07</th>\n",
       "      <td>791.47</td>\n",
       "      <td>0.066964</td>\n",
       "      <td>1.477018</td>\n",
       "      <td>2014582.0</td>\n",
       "      <td>NaN</td>\n",
       "    </tr>\n",
       "    <tr>\n",
       "      <th>2016-12-08</th>\n",
       "      <td>795.17</td>\n",
       "      <td>0.481658</td>\n",
       "      <td>0.279967</td>\n",
       "      <td>1603167.0</td>\n",
       "      <td>NaN</td>\n",
       "    </tr>\n",
       "    <tr>\n",
       "      <th>2016-12-09</th>\n",
       "      <td>809.45</td>\n",
       "      <td>0.061770</td>\n",
       "      <td>1.269861</td>\n",
       "      <td>1889430.0</td>\n",
       "      <td>NaN</td>\n",
       "    </tr>\n",
       "    <tr>\n",
       "      <th>2016-12-12</th>\n",
       "      <td>807.90</td>\n",
       "      <td>0.427033</td>\n",
       "      <td>0.382694</td>\n",
       "      <td>1620757.0</td>\n",
       "      <td>NaN</td>\n",
       "    </tr>\n",
       "    <tr>\n",
       "      <th>2016-12-13</th>\n",
       "      <td>815.34</td>\n",
       "      <td>1.098928</td>\n",
       "      <td>0.363126</td>\n",
       "      <td>2097969.0</td>\n",
       "      <td>NaN</td>\n",
       "    </tr>\n",
       "    <tr>\n",
       "      <th>2016-12-14</th>\n",
       "      <td>817.89</td>\n",
       "      <td>0.778833</td>\n",
       "      <td>0.241445</td>\n",
       "      <td>1744276.0</td>\n",
       "      <td>NaN</td>\n",
       "    </tr>\n",
       "    <tr>\n",
       "      <th>2016-12-15</th>\n",
       "      <td>815.65</td>\n",
       "      <td>0.901122</td>\n",
       "      <td>-0.209210</td>\n",
       "      <td>1696212.0</td>\n",
       "      <td>NaN</td>\n",
       "    </tr>\n",
       "  </tbody>\n",
       "</table>\n",
       "</div>"
      ],
      "text/plain": [
       "            Adj. Close    HL_PCT  PCT_Change  Adj. Volume  label\n",
       "Date                                                            \n",
       "2016-12-02      764.46  0.790100    0.336002    1686840.0    NaN\n",
       "2016-12-05      778.22  0.228727    1.067532    1680524.0    NaN\n",
       "2016-12-06      776.18  1.172408   -0.513977    1694701.0    NaN\n",
       "2016-12-07      791.47  0.066964    1.477018    2014582.0    NaN\n",
       "2016-12-08      795.17  0.481658    0.279967    1603167.0    NaN\n",
       "2016-12-09      809.45  0.061770    1.269861    1889430.0    NaN\n",
       "2016-12-12      807.90  0.427033    0.382694    1620757.0    NaN\n",
       "2016-12-13      815.34  1.098928    0.363126    2097969.0    NaN\n",
       "2016-12-14      817.89  0.778833    0.241445    1744276.0    NaN\n",
       "2016-12-15      815.65  0.901122   -0.209210    1696212.0    NaN"
      ]
     },
     "execution_count": 60,
     "metadata": {},
     "output_type": "execute_result"
    }
   ],
   "source": [
    "df.tail(10)"
   ]
  },
  {
   "cell_type": "code",
   "execution_count": 48,
   "metadata": {
    "collapsed": false
   },
   "outputs": [],
   "source": [
    "X=np.array(df.drop(['label'],1)) \n",
    "# The above command will keep everything in df \n",
    "# the df.drop command will drop the 'label' column from the data frame \n",
    "#  and return the rest of the columns -\n",
    "#       \tAdj. Close\n",
    "#           HL_PCT\n",
    "#           PCT_Change\n",
    "#           Adj. Volume\n",
    "# Note the 1 in the df.drop - what is it?\n",
    "#    It is known as the axis. 0 stands for row slicing and 1 for column slicing.. \n",
    "#\n",
    "# This table of 4 columns and N rows is retruned to the np.array method.\n",
    "# np.array converts the table into an array and stores it in X\n",
    "# \n",
    "#  Note that end of this step, df remains un-altered . Why?\n",
    "#   We did NOT place df in the lvalue NOR did we use the inplace parameter for df.drop\n",
    "#  \n",
    "# Summary of this step is we collect all columns except the label column into X\n",
    "#"
   ]
  },
  {
   "cell_type": "code",
   "execution_count": 49,
   "metadata": {
    "collapsed": false
   },
   "outputs": [
    {
     "data": {
      "text/plain": [
       "array([  5.03228418e+01,   3.71256291e+00,   3.24967503e-01,\n",
       "         4.46590000e+07])"
      ]
     },
     "execution_count": 49,
     "metadata": {},
     "output_type": "execute_result"
    }
   ],
   "source": [
    "X[0]"
   ]
  },
  {
   "cell_type": "code",
   "execution_count": 57,
   "metadata": {
    "collapsed": false
   },
   "outputs": [
    {
     "data": {
      "text/html": [
       "<div>\n",
       "<table border=\"1\" class=\"dataframe\">\n",
       "  <thead>\n",
       "    <tr style=\"text-align: right;\">\n",
       "      <th></th>\n",
       "      <th>Adj. Close</th>\n",
       "      <th>HL_PCT</th>\n",
       "      <th>PCT_Change</th>\n",
       "      <th>Adj. Volume</th>\n",
       "      <th>label</th>\n",
       "    </tr>\n",
       "    <tr>\n",
       "      <th>Date</th>\n",
       "      <th></th>\n",
       "      <th></th>\n",
       "      <th></th>\n",
       "      <th></th>\n",
       "      <th></th>\n",
       "    </tr>\n",
       "  </thead>\n",
       "  <tbody>\n",
       "    <tr>\n",
       "      <th>2016-12-09</th>\n",
       "      <td>809.45</td>\n",
       "      <td>0.061770</td>\n",
       "      <td>1.269861</td>\n",
       "      <td>1889430.0</td>\n",
       "      <td>NaN</td>\n",
       "    </tr>\n",
       "    <tr>\n",
       "      <th>2016-12-12</th>\n",
       "      <td>807.90</td>\n",
       "      <td>0.427033</td>\n",
       "      <td>0.382694</td>\n",
       "      <td>1620757.0</td>\n",
       "      <td>NaN</td>\n",
       "    </tr>\n",
       "    <tr>\n",
       "      <th>2016-12-13</th>\n",
       "      <td>815.34</td>\n",
       "      <td>1.098928</td>\n",
       "      <td>0.363126</td>\n",
       "      <td>2097969.0</td>\n",
       "      <td>NaN</td>\n",
       "    </tr>\n",
       "    <tr>\n",
       "      <th>2016-12-14</th>\n",
       "      <td>817.89</td>\n",
       "      <td>0.778833</td>\n",
       "      <td>0.241445</td>\n",
       "      <td>1744276.0</td>\n",
       "      <td>NaN</td>\n",
       "    </tr>\n",
       "    <tr>\n",
       "      <th>2016-12-15</th>\n",
       "      <td>815.65</td>\n",
       "      <td>0.901122</td>\n",
       "      <td>-0.209210</td>\n",
       "      <td>1696212.0</td>\n",
       "      <td>NaN</td>\n",
       "    </tr>\n",
       "  </tbody>\n",
       "</table>\n",
       "</div>"
      ],
      "text/plain": [
       "            Adj. Close    HL_PCT  PCT_Change  Adj. Volume  label\n",
       "Date                                                            \n",
       "2016-12-09      809.45  0.061770    1.269861    1889430.0    NaN\n",
       "2016-12-12      807.90  0.427033    0.382694    1620757.0    NaN\n",
       "2016-12-13      815.34  1.098928    0.363126    2097969.0    NaN\n",
       "2016-12-14      817.89  0.778833    0.241445    1744276.0    NaN\n",
       "2016-12-15      815.65  0.901122   -0.209210    1696212.0    NaN"
      ]
     },
     "execution_count": 57,
     "metadata": {},
     "output_type": "execute_result"
    }
   ],
   "source": [
    "df.tail()"
   ]
  },
  {
   "cell_type": "code",
   "execution_count": null,
   "metadata": {
    "collapsed": false
   },
   "outputs": [],
   "source": [
    "X=preprocessing.scale(X)\n",
    "# Scaling happens at this step. \n",
    "# This is also an important step. \n",
    "# In the data, there can be very large number and very small numbers. \n",
    "# This will wreak havoc on the algorithms. \n",
    "#  So, we can compute standardized scores for each data item. \n",
    "#  When we do this, we are said to have done 'scaling'\n",
    "# Standardized scores (or z scores) is a basic statistic concept.\n",
    "# After 'standardizing' the data, the inherent nature of the data as a whole does NOT change.\n",
    "# So, it will still be useful for predicting.\n",
    "# Some reading material is here:\n",
    "#   http://scikit-learn.org/stable/modules/preprocessing.html\n",
    "# Good reading material here: https://www.analyticsvidhya.com/blog/2016/07/practical-guide-data-preprocessing-python-scikit-learn/\n",
    "# Some more reading material here: http://sebastianraschka.com/Articles/2014_about_feature_scaling.html\n",
    "# and http://web.cs.wpi.edu/~ruiz/KDDRG/Resources/Python/\n"
   ]
  },
  {
   "cell_type": "code",
   "execution_count": 53,
   "metadata": {
    "collapsed": false
   },
   "outputs": [
    {
     "name": "stdout",
     "output_type": "stream",
     "text": [
      "3105\n",
      "3073\n"
     ]
    },
    {
     "data": {
      "text/plain": [
       "array([  5.03228418e+01,   3.71256291e+00,   3.24967503e-01,\n",
       "         4.46590000e+07])"
      ]
     },
     "execution_count": 53,
     "metadata": {},
     "output_type": "execute_result"
    }
   ],
   "source": [
    "print(len(X))\n",
    "X=X[:-forecast_out]\n",
    "print(len(X))\n",
    "X[0]\n",
    "# See that somethere at the top, we had to do a shift operation on data frame. \n",
    "# After doing it, we copied data to X\n",
    "# What this has done it, it have moved the label column up by 'forecast_out' rows. \n",
    "#  This left NaN values in label column (and in X) at the very bottom.\n",
    "# SO, what this step does is effectively clear those last 'forecast_out' rows in array.\n",
    "#"
   ]
  },
  {
   "cell_type": "code",
   "execution_count": 54,
   "metadata": {
    "collapsed": false
   },
   "outputs": [
    {
     "name": "stdout",
     "output_type": "stream",
     "text": [
      "32\n",
      "3073\n"
     ]
    },
    {
     "data": {
      "text/plain": [
       "array([  7.97970000e+02,   1.31583894e-01,  -1.31410978e-01,\n",
       "         2.13057100e+06])"
      ]
     },
     "execution_count": 54,
     "metadata": {},
     "output_type": "execute_result"
    }
   ],
   "source": [
    "X_lately=X[-forecast_out:]\n",
    "print(len(X_lately))\n",
    "print(len(X))\n",
    "# Whats happening here?\n",
    "#  Array slicing has been used here. \n",
    "#  First line extracts the the last forecast_out elements of X into X_lately.\n",
    "#  Remember that there are the elements which have NaN for the 'label' column. ?? Verify this.. \n",
    "#\n",
    "#   For more on Array slicing - use the notes in RoughNotes.ipynb\n",
    "#"
   ]
  },
  {
   "cell_type": "code",
   "execution_count": 59,
   "metadata": {
    "collapsed": false
   },
   "outputs": [
    {
     "data": {
      "text/plain": [
       "array([  8.19560000e+02,   2.37200449e+00,  -1.25069282e+00,\n",
       "         4.35488400e+06])"
      ]
     },
     "execution_count": 59,
     "metadata": {},
     "output_type": "execute_result"
    }
   ],
   "source": [
    "X_lately[30]\n",
    "# This will NOT match with what we see in df.tail() --- why?\n",
    "# Note that we scaled the array X  and then created the X_lately.\n",
    "# So, whats in X and X_lately is the standardized or Normalized or preprocessed data.\n",
    "#\n"
   ]
  },
  {
   "cell_type": "code",
   "execution_count": null,
   "metadata": {
    "collapsed": false
   },
   "outputs": [],
   "source": [
    "df.dropna(inplace=True)\n",
    "y=np.array(df['label'])\n",
    "\n",
    "# Here we are cleaning up df - are NaN values are cleared ( rows will be deleted) .\n",
    "# Note that before cleanup we have NaN values \n",
    "#  in the last forecast_out rows under the \"lable\" column\n",
    "# After doing this clean up of df, we populate the label values into the array y\n",
    "#\n"
   ]
  },
  {
   "cell_type": "code",
   "execution_count": null,
   "metadata": {
    "collapsed": false
   },
   "outputs": [],
   "source": [
    "y[0]"
   ]
  },
  {
   "cell_type": "code",
   "execution_count": null,
   "metadata": {
    "collapsed": true
   },
   "outputs": [],
   "source": [
    "X_train,X_test, y_train, y_test = cross_validation.train_test_split(X,y,test_size=0.2)\n",
    "# We have only one data set to work with. \n",
    "# How do we create a train dataset and a test dataset?\n",
    "# Not a problem, we do a manual split of the array X and y\n",
    "# or use the cross_validation packages train_test_split function.\n",
    "# In this example, we have specified that the test_size be 0.2\n",
    "#   what this means is we want to create a test dataset with \n",
    "#         20% of the data from main dataset.\n",
    "# Train dataset will be the complement of test dataset - that is 80% in this case.\n",
    "#\n",
    "# End of the statement, we would have the following datasets:\n",
    "# Training datasets X_train and y_train\n",
    "# Test Datasets:    X_test and y_test\n",
    "#\n"
   ]
  },
  {
   "cell_type": "code",
   "execution_count": null,
   "metadata": {
    "collapsed": false
   },
   "outputs": [],
   "source": [
    "clf = LinearRegression(n_jobs=-1)\n",
    "# n_jobs = -1 is telling the program this:\n",
    "#   this is a parameter about threading.\n",
    "#   When this program goes about finding an optimal value - this can be done in threads.\n",
    "#    when we give  a value of 2 for n_jobs, we ask that to run it in two threads\n",
    "#    when we give a value of -1 , what we are saying it - we are leaving it to the program\n",
    "#     to find the best number of threads given the limitation of the hardware and software \n",
    "#     the program is running under!\n",
    "# What about the LinearRegression() function call - \n",
    "#  that function calls returns an object of type linear_model.\n",
    "# We can use methods in that class(object) for fitting the data and do other tasks.\n",
    "# Whats happening in the next line is we are fitting the data:\n",
    "clf.fit(X_train,y_train)"
   ]
  },
  {
   "cell_type": "code",
   "execution_count": null,
   "metadata": {
    "collapsed": false
   },
   "outputs": [],
   "source": [
    "accuracy = clf.score(X_test,y_test)\n",
    "# or accuracy = clf.score(X_test,y_test)\n",
    "accuracy\n",
    "# what we see here is the squared error\n"
   ]
  },
  {
   "cell_type": "markdown",
   "metadata": {},
   "source": [
    "R-squared is a statistical measure of how close the data are to the fitted regression line. It is also known as the coefficient of determination, or the coefficient of multiple determination for multiple regression. 0% indicates that the model explains none of the variability of the response data around its mean."
   ]
  },
  {
   "cell_type": "code",
   "execution_count": null,
   "metadata": {
    "collapsed": true
   },
   "outputs": [],
   "source": [
    "# The accuracy we got is 96% accuracy on predicting what the price would be 30 days into\n",
    "#  future \n",
    "# 30 days ? remember the forecast_out variable.\n",
    "#\n"
   ]
  },
  {
   "cell_type": "code",
   "execution_count": null,
   "metadata": {
    "collapsed": false
   },
   "outputs": [],
   "source": [
    "forecast_set = clf.predict(X_lately)\n",
    "print(forecast_set,accuracy, forecast_out)\n",
    "#Here we are predicting data.\n"
   ]
  },
  {
   "cell_type": "code",
   "execution_count": null,
   "metadata": {
    "collapsed": true
   },
   "outputs": [],
   "source": []
  }
 ],
 "metadata": {
  "kernelspec": {
   "display_name": "Python 3",
   "language": "python",
   "name": "python3"
  },
  "language_info": {
   "codemirror_mode": {
    "name": "ipython",
    "version": 3
   },
   "file_extension": ".py",
   "mimetype": "text/x-python",
   "name": "python",
   "nbconvert_exporter": "python",
   "pygments_lexer": "ipython3",
   "version": "3.5.2"
  }
 },
 "nbformat": 4,
 "nbformat_minor": 0
}
